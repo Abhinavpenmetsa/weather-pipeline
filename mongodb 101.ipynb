{
 "cells": [
  {
   "cell_type": "code",
   "execution_count": null,
   "metadata": {},
   "outputs": [],
   "source": [
    "import pymongo\n",
    "\n",
    "#Connect to MongoDB\n",
    "client =  pymongo.MongoClient(\"mongodb://localhost:27017/\")\n",
    "\n",
    "#Access the database\n",
    "\n",
    "db = client[\"demo\"]\n",
    "\n",
    "#Access the collection\n",
    "\n",
    "collection = db[\"users\"]\n",
    "\n",
    "#Query data from the collection\n",
    "query= {}# You can specify a query filter here\n",
    "result = collection.find(query)\n",
    "\n",
    "#Print the query results\n",
    "for document in result:\n",
    " print(document)"
   ]
  },
  {
   "cell_type": "code",
   "execution_count": null,
   "metadata": {},
   "outputs": [],
   "source": [
    "city_coordinates = [\n",
    "{\"city\": \"Delhi\", \"latitude\": 28.7041, \"longitude\": 77.1025},\n",
    "{\"city\": \"Dubai\", \"latitude\": 25.2048, \"longitude\": 55.2788},\n",
    "{\"city\": \"Dallas\", \"latitude\": 32.7767, \"longitude\": -96.7970},\n",
    "{\"city\": \"Sydney\", \"latitude\": -33.8688, \"longitude\": 151.2093},\n",
    "{\"city\": \"London\", \"latitude\": 51.5074, \"longitude\": -0.1278},\n",
    "{\"city\": \"Johannesburg\", \"latitude\": -26.2041, \"longitude\": 28.0473}\n",
    "]"
   ]
  },
  {
   "cell_type": "code",
   "execution_count": null,
   "metadata": {},
   "outputs": [],
   "source": [
    "import pymongo\n",
    "\n",
    "#Connect to MongoDB\n",
    "client = pymongo.MongoClient(\"mongodb://localhost:27017/\")\n",
    "\n",
    "#Access the database\n",
    "db = client[\"weather_db\"]\n",
    "\n",
    "#Access the collection\n",
    "collection = db[\"city_coordinates\"]\n",
    "\n",
    "#Insert the data into the collection\n",
    "collection.insert_many(city_coordinates)\n",
    "\n",
    "#Print the inserted documents\n",
    "for document in collection.find():\n",
    " print(document)"
   ]
  }
 ],
 "metadata": {
  "kernelspec": {
   "display_name": "wp-venv",
   "language": "python",
   "name": "python3"
  },
  "language_info": {
   "name": "python",
   "version": "3.12.8"
  }
 },
 "nbformat": 4,
 "nbformat_minor": 2
}
