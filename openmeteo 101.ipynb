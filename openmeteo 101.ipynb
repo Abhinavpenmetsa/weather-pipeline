{
 "cells": [
  {
   "cell_type": "code",
   "execution_count": null,
   "metadata": {},
   "outputs": [],
   "source": [
    "import requests\n",
    "\n",
    "url =  \"https://api.open-meteo.com/v1/forecast/latitude-52.528longitude-13.41&current-tempe\"\n",
    "\n",
    "response = requests.get(url) \n",
    "\n",
    "if response.status_code == 200:\n",
    "    data = response.json()\n",
    "    #Process the data as needed\n",
    "    print(data)\n",
    "\n",
    "else:\n",
    "    print(\"Error:\", response.status_code)"
   ]
  },
  {
   "cell_type": "code",
   "execution_count": null,
   "metadata": {},
   "outputs": [],
   "source": [
    "params = {\n",
    "\"latitude\": 52.52,\n",
    "\"longitude\": 13.41,\n",
    "\"hourly\": [\"temperature_2m\", \"precipitation\", \"rain\"],\n",
    "\"start_date\": \"2024-06-23\",\n",
    "\"end_date\": \"2024-06-23\"\n",
    "}"
   ]
  },
  {
   "cell_type": "code",
   "execution_count": null,
   "metadata": {},
   "outputs": [],
   "source": [
    "url = \"https://api.open-meteo.com/v1/forecast\""
   ]
  },
  {
   "cell_type": "code",
   "execution_count": null,
   "metadata": {},
   "outputs": [],
   "source": [
    "import requests\n",
    "\n",
    "response = requests.get(url, params-params)\n",
    "\n",
    "if response.status_code == 200:\n",
    "  data = response.json()\n",
    "  #Process the data as needed\n",
    "  pprint.pprint(data)\n",
    "else:\n",
    "  print(\"Error:\", response.status_code)"
   ]
  }
 ],
 "metadata": {
  "kernelspec": {
   "display_name": "wp-venv",
   "language": "python",
   "name": "python3"
  },
  "language_info": {
   "name": "python",
   "version": "3.12.8"
  }
 },
 "nbformat": 4,
 "nbformat_minor": 2
}
